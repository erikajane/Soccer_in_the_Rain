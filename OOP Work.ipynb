{
 "cells": [
  {
   "cell_type": "markdown",
   "metadata": {},
   "source": [
    "# Module 2 Summative Lab"
   ]
  },
  {
   "cell_type": "markdown",
   "metadata": {},
   "source": [
    "## Import Libraries & Connect to Database"
   ]
  },
  {
   "cell_type": "code",
   "execution_count": 1,
   "metadata": {},
   "outputs": [],
   "source": [
    "# Import necessary libraries\n",
    "\n",
    "import sqlite3\n",
    "import pandas as pd\n",
    "import matplotlib.pyplot as plt\n",
    "import json\n",
    "import requests\n",
    "import pymongo"
   ]
  },
  {
   "cell_type": "code",
   "execution_count": 2,
   "metadata": {},
   "outputs": [],
   "source": [
    "# Connect to database\n",
    "conn = sqlite3.connect('''database.sqlite''')\n",
    "\n",
    "# Create cursor object\n",
    "cur = conn.cursor()"
   ]
  },
  {
   "cell_type": "markdown",
   "metadata": {},
   "source": [
    "## Preview Datasets in Database"
   ]
  },
  {
   "cell_type": "markdown",
   "metadata": {},
   "source": [
    "The SQL database was downloaded from https://www.kaggle.com/laudanum/footballdelphi. The database includes four tables:\n",
    " - Matches\n",
    " - Teams\n",
    " - Teams_in_Matches\n",
    " - Unique_Teams"
   ]
  },
  {
   "cell_type": "code",
   "execution_count": 3,
   "metadata": {},
   "outputs": [
    {
     "name": "stdout",
     "output_type": "stream",
     "text": [
      "(24625, 9)\n"
     ]
    },
    {
     "data": {
      "text/html": [
       "<div>\n",
       "<style scoped>\n",
       "    .dataframe tbody tr th:only-of-type {\n",
       "        vertical-align: middle;\n",
       "    }\n",
       "\n",
       "    .dataframe tbody tr th {\n",
       "        vertical-align: top;\n",
       "    }\n",
       "\n",
       "    .dataframe thead th {\n",
       "        text-align: right;\n",
       "    }\n",
       "</style>\n",
       "<table border=\"1\" class=\"dataframe\">\n",
       "  <thead>\n",
       "    <tr style=\"text-align: right;\">\n",
       "      <th></th>\n",
       "      <th>Match_ID</th>\n",
       "      <th>Div</th>\n",
       "      <th>Season</th>\n",
       "      <th>Date</th>\n",
       "      <th>HomeTeam</th>\n",
       "      <th>AwayTeam</th>\n",
       "      <th>FTHG</th>\n",
       "      <th>FTAG</th>\n",
       "      <th>FTR</th>\n",
       "    </tr>\n",
       "  </thead>\n",
       "  <tbody>\n",
       "    <tr>\n",
       "      <th>0</th>\n",
       "      <td>1</td>\n",
       "      <td>D2</td>\n",
       "      <td>2009</td>\n",
       "      <td>2010-04-04</td>\n",
       "      <td>Oberhausen</td>\n",
       "      <td>Kaiserslautern</td>\n",
       "      <td>2</td>\n",
       "      <td>1</td>\n",
       "      <td>H</td>\n",
       "    </tr>\n",
       "    <tr>\n",
       "      <th>1</th>\n",
       "      <td>2</td>\n",
       "      <td>D2</td>\n",
       "      <td>2009</td>\n",
       "      <td>2009-11-01</td>\n",
       "      <td>Munich 1860</td>\n",
       "      <td>Kaiserslautern</td>\n",
       "      <td>0</td>\n",
       "      <td>1</td>\n",
       "      <td>A</td>\n",
       "    </tr>\n",
       "    <tr>\n",
       "      <th>2</th>\n",
       "      <td>3</td>\n",
       "      <td>D2</td>\n",
       "      <td>2009</td>\n",
       "      <td>2009-10-04</td>\n",
       "      <td>Frankfurt FSV</td>\n",
       "      <td>Kaiserslautern</td>\n",
       "      <td>1</td>\n",
       "      <td>1</td>\n",
       "      <td>D</td>\n",
       "    </tr>\n",
       "    <tr>\n",
       "      <th>3</th>\n",
       "      <td>4</td>\n",
       "      <td>D2</td>\n",
       "      <td>2009</td>\n",
       "      <td>2010-02-21</td>\n",
       "      <td>Frankfurt FSV</td>\n",
       "      <td>Karlsruhe</td>\n",
       "      <td>2</td>\n",
       "      <td>1</td>\n",
       "      <td>H</td>\n",
       "    </tr>\n",
       "    <tr>\n",
       "      <th>4</th>\n",
       "      <td>5</td>\n",
       "      <td>D2</td>\n",
       "      <td>2009</td>\n",
       "      <td>2009-12-06</td>\n",
       "      <td>Ahlen</td>\n",
       "      <td>Karlsruhe</td>\n",
       "      <td>1</td>\n",
       "      <td>3</td>\n",
       "      <td>A</td>\n",
       "    </tr>\n",
       "  </tbody>\n",
       "</table>\n",
       "</div>"
      ],
      "text/plain": [
       "   Match_ID Div  Season        Date       HomeTeam        AwayTeam  FTHG  \\\n",
       "0         1  D2    2009  2010-04-04     Oberhausen  Kaiserslautern     2   \n",
       "1         2  D2    2009  2009-11-01    Munich 1860  Kaiserslautern     0   \n",
       "2         3  D2    2009  2009-10-04  Frankfurt FSV  Kaiserslautern     1   \n",
       "3         4  D2    2009  2010-02-21  Frankfurt FSV       Karlsruhe     2   \n",
       "4         5  D2    2009  2009-12-06          Ahlen       Karlsruhe     1   \n",
       "\n",
       "   FTAG FTR  \n",
       "0     1   H  \n",
       "1     1   A  \n",
       "2     1   D  \n",
       "3     1   H  \n",
       "4     3   A  "
      ]
     },
     "execution_count": 3,
     "metadata": {},
     "output_type": "execute_result"
    }
   ],
   "source": [
    "# Preview Matches dataframe and shape\n",
    "\n",
    "cur.execute('''SELECT * FROM Matches;''')\n",
    "Matches_df =pd.DataFrame(cur.fetchall())\n",
    "Matches_df.columns = [x[0] for x in cur.description]\n",
    "print(Matches_df.shape)\n",
    "Matches_df.head()"
   ]
  },
  {
   "cell_type": "markdown",
   "metadata": {},
   "source": [
    "There are 24,625 rows and 9 columns in the __Matches__ table. The columns in this dataset are described from the source (https://www.kaggle.com/laudanum/footballdelphi) as follows:\n",
    " - Match_ID (int): unique ID per match\n",
    " - Div (str): identifies the division the match was played in (D1 = Bundesliga, D2 = Bundesliga 2, E0 = English Premier League)\n",
    " - Season (int): Season the match took place in (usually covering the period of August till May of the following year)\n",
    " - Date (str): Date of the match\n",
    " - HomeTeam (str): Name of the home team\n",
    " - AwayTeam (str): Name of the away team\n",
    " - FTHG (int) (Full Time Home Goals): Number of goals scored by the home team\n",
    " - FTAG (int) (Full Time Away Goals): Number of goals scored by the away team\n",
    " - FTR (str) (Full Time Result): 3-way result of the match (H = Home Win, D = Draw, A = Away Win)"
   ]
  },
  {
   "cell_type": "code",
   "execution_count": 4,
   "metadata": {},
   "outputs": [
    {
     "name": "stdout",
     "output_type": "stream",
     "text": [
      "(468, 8)\n"
     ]
    },
    {
     "data": {
      "text/html": [
       "<div>\n",
       "<style scoped>\n",
       "    .dataframe tbody tr th:only-of-type {\n",
       "        vertical-align: middle;\n",
       "    }\n",
       "\n",
       "    .dataframe tbody tr th {\n",
       "        vertical-align: top;\n",
       "    }\n",
       "\n",
       "    .dataframe thead th {\n",
       "        text-align: right;\n",
       "    }\n",
       "</style>\n",
       "<table border=\"1\" class=\"dataframe\">\n",
       "  <thead>\n",
       "    <tr style=\"text-align: right;\">\n",
       "      <th></th>\n",
       "      <th>Season</th>\n",
       "      <th>TeamName</th>\n",
       "      <th>KaderHome</th>\n",
       "      <th>AvgAgeHome</th>\n",
       "      <th>ForeignPlayersHome</th>\n",
       "      <th>OverallMarketValueHome</th>\n",
       "      <th>AvgMarketValueHome</th>\n",
       "      <th>StadiumCapacity</th>\n",
       "    </tr>\n",
       "  </thead>\n",
       "  <tbody>\n",
       "    <tr>\n",
       "      <th>0</th>\n",
       "      <td>2017</td>\n",
       "      <td>Bayern Munich</td>\n",
       "      <td>27</td>\n",
       "      <td>26</td>\n",
       "      <td>15</td>\n",
       "      <td>597950000</td>\n",
       "      <td>22150000</td>\n",
       "      <td>75000</td>\n",
       "    </tr>\n",
       "    <tr>\n",
       "      <th>1</th>\n",
       "      <td>2017</td>\n",
       "      <td>Dortmund</td>\n",
       "      <td>33</td>\n",
       "      <td>25</td>\n",
       "      <td>18</td>\n",
       "      <td>416730000</td>\n",
       "      <td>12630000</td>\n",
       "      <td>81359</td>\n",
       "    </tr>\n",
       "    <tr>\n",
       "      <th>2</th>\n",
       "      <td>2017</td>\n",
       "      <td>Leverkusen</td>\n",
       "      <td>31</td>\n",
       "      <td>24</td>\n",
       "      <td>15</td>\n",
       "      <td>222600000</td>\n",
       "      <td>7180000</td>\n",
       "      <td>30210</td>\n",
       "    </tr>\n",
       "    <tr>\n",
       "      <th>3</th>\n",
       "      <td>2017</td>\n",
       "      <td>RB Leipzig</td>\n",
       "      <td>30</td>\n",
       "      <td>23</td>\n",
       "      <td>15</td>\n",
       "      <td>180130000</td>\n",
       "      <td>6000000</td>\n",
       "      <td>42959</td>\n",
       "    </tr>\n",
       "    <tr>\n",
       "      <th>4</th>\n",
       "      <td>2017</td>\n",
       "      <td>Schalke 04</td>\n",
       "      <td>29</td>\n",
       "      <td>24</td>\n",
       "      <td>17</td>\n",
       "      <td>179550000</td>\n",
       "      <td>6190000</td>\n",
       "      <td>62271</td>\n",
       "    </tr>\n",
       "  </tbody>\n",
       "</table>\n",
       "</div>"
      ],
      "text/plain": [
       "  Season       TeamName KaderHome AvgAgeHome ForeignPlayersHome  \\\n",
       "0   2017  Bayern Munich        27         26                 15   \n",
       "1   2017       Dortmund        33         25                 18   \n",
       "2   2017     Leverkusen        31         24                 15   \n",
       "3   2017     RB Leipzig        30         23                 15   \n",
       "4   2017     Schalke 04        29         24                 17   \n",
       "\n",
       "  OverallMarketValueHome AvgMarketValueHome StadiumCapacity  \n",
       "0              597950000           22150000           75000  \n",
       "1              416730000           12630000           81359  \n",
       "2              222600000            7180000           30210  \n",
       "3              180130000            6000000           42959  \n",
       "4              179550000            6190000           62271  "
      ]
     },
     "execution_count": 4,
     "metadata": {},
     "output_type": "execute_result"
    }
   ],
   "source": [
    "# Preview Teams dataframe and shape\n",
    "\n",
    "cur.execute('''SELECT * FROM Teams;''')\n",
    "Teams_df = pd.DataFrame(cur.fetchall())\n",
    "Teams_df.columns = [x[0] for x in cur.description]\n",
    "print(Teams_df.shape)\n",
    "Teams_df.head()"
   ]
  },
  {
   "cell_type": "markdown",
   "metadata": {},
   "source": [
    "There are 468 rows and 8 columns included in the __Teams__ table. The columns in this dataset are described from the source (https://www.kaggle.com/laudanum/footballdelphi) as follows:\n",
    " - Season (str): Football season for which the data is valid\n",
    " - TeamName (str): Name of the team the data concerns\n",
    " - KaderHome (str): Number of Players in the squad\n",
    " - AvgAgeHome (str): Average age of players\n",
    " - ForeignPlayersHome (str): Number of foreign players (non-German, non-English respectively) playing for the team\n",
    " - OverallMarketValueHome (str): Overall market value of the team pre-season in EUR (based on data from transfermarkt.de)\n",
    " - AvgMarketValueHome (str): Average market value (per player) of the team pre-season in EUR (based on data from transfermarkt.de)\n",
    " - StadiumCapacity (str): Maximum stadium capacity of the team's home stadium"
   ]
  },
  {
   "cell_type": "code",
   "execution_count": 5,
   "metadata": {},
   "outputs": [
    {
     "name": "stdout",
     "output_type": "stream",
     "text": [
      "(49148, 2)\n"
     ]
    },
    {
     "data": {
      "text/html": [
       "<div>\n",
       "<style scoped>\n",
       "    .dataframe tbody tr th:only-of-type {\n",
       "        vertical-align: middle;\n",
       "    }\n",
       "\n",
       "    .dataframe tbody tr th {\n",
       "        vertical-align: top;\n",
       "    }\n",
       "\n",
       "    .dataframe thead th {\n",
       "        text-align: right;\n",
       "    }\n",
       "</style>\n",
       "<table border=\"1\" class=\"dataframe\">\n",
       "  <thead>\n",
       "    <tr style=\"text-align: right;\">\n",
       "      <th></th>\n",
       "      <th>Match_ID</th>\n",
       "      <th>Unique_Team_ID</th>\n",
       "    </tr>\n",
       "  </thead>\n",
       "  <tbody>\n",
       "    <tr>\n",
       "      <th>0</th>\n",
       "      <td>1</td>\n",
       "      <td>26</td>\n",
       "    </tr>\n",
       "    <tr>\n",
       "      <th>1</th>\n",
       "      <td>1</td>\n",
       "      <td>46</td>\n",
       "    </tr>\n",
       "    <tr>\n",
       "      <th>2</th>\n",
       "      <td>2</td>\n",
       "      <td>26</td>\n",
       "    </tr>\n",
       "    <tr>\n",
       "      <th>3</th>\n",
       "      <td>2</td>\n",
       "      <td>42</td>\n",
       "    </tr>\n",
       "    <tr>\n",
       "      <th>4</th>\n",
       "      <td>3</td>\n",
       "      <td>26</td>\n",
       "    </tr>\n",
       "  </tbody>\n",
       "</table>\n",
       "</div>"
      ],
      "text/plain": [
       "   Match_ID  Unique_Team_ID\n",
       "0         1              26\n",
       "1         1              46\n",
       "2         2              26\n",
       "3         2              42\n",
       "4         3              26"
      ]
     },
     "execution_count": 5,
     "metadata": {},
     "output_type": "execute_result"
    }
   ],
   "source": [
    "# Preview Teams_in_Matches dataframe and shape\n",
    "\n",
    "cur.execute('''SELECT * FROM Teams_in_Matches;''')\n",
    "Teams_in_Matches_df = pd.DataFrame(cur.fetchall())\n",
    "Teams_in_Matches_df.columns = [x[0] for x in cur.description]\n",
    "print(Teams_in_Matches_df.shape)\n",
    "Teams_in_Matches_df.head()"
   ]
  },
  {
   "cell_type": "markdown",
   "metadata": {},
   "source": [
    "There are 49,148 rows and 2 columns included in the __Teams_in_Matches__ table. The columns in this dataset are described from the source (https://www.kaggle.com/laudanum/footballdelphi) as follows:\n",
    " - Match_ID (int): Unique match ID\n",
    " - Unique_Team_ID (int): Unique team ID (This table is used to easily retrieve each match a given team has played in)"
   ]
  },
  {
   "cell_type": "code",
   "execution_count": 6,
   "metadata": {},
   "outputs": [
    {
     "name": "stdout",
     "output_type": "stream",
     "text": [
      "(128, 2)\n"
     ]
    },
    {
     "data": {
      "text/html": [
       "<div>\n",
       "<style scoped>\n",
       "    .dataframe tbody tr th:only-of-type {\n",
       "        vertical-align: middle;\n",
       "    }\n",
       "\n",
       "    .dataframe tbody tr th {\n",
       "        vertical-align: top;\n",
       "    }\n",
       "\n",
       "    .dataframe thead th {\n",
       "        text-align: right;\n",
       "    }\n",
       "</style>\n",
       "<table border=\"1\" class=\"dataframe\">\n",
       "  <thead>\n",
       "    <tr style=\"text-align: right;\">\n",
       "      <th></th>\n",
       "      <th>TeamName</th>\n",
       "      <th>Unique_Team_ID</th>\n",
       "    </tr>\n",
       "  </thead>\n",
       "  <tbody>\n",
       "    <tr>\n",
       "      <th>0</th>\n",
       "      <td>Bayern Munich</td>\n",
       "      <td>1</td>\n",
       "    </tr>\n",
       "    <tr>\n",
       "      <th>1</th>\n",
       "      <td>Dortmund</td>\n",
       "      <td>2</td>\n",
       "    </tr>\n",
       "    <tr>\n",
       "      <th>2</th>\n",
       "      <td>Leverkusen</td>\n",
       "      <td>3</td>\n",
       "    </tr>\n",
       "    <tr>\n",
       "      <th>3</th>\n",
       "      <td>RB Leipzig</td>\n",
       "      <td>4</td>\n",
       "    </tr>\n",
       "    <tr>\n",
       "      <th>4</th>\n",
       "      <td>Schalke 04</td>\n",
       "      <td>5</td>\n",
       "    </tr>\n",
       "  </tbody>\n",
       "</table>\n",
       "</div>"
      ],
      "text/plain": [
       "        TeamName  Unique_Team_ID\n",
       "0  Bayern Munich               1\n",
       "1       Dortmund               2\n",
       "2     Leverkusen               3\n",
       "3     RB Leipzig               4\n",
       "4     Schalke 04               5"
      ]
     },
     "execution_count": 6,
     "metadata": {},
     "output_type": "execute_result"
    }
   ],
   "source": [
    "# Preview Unique_Teams dataframe and shape\n",
    "\n",
    "cur.execute('''SELECT * FROM Unique_Teams;''')\n",
    "Unique_Teams_df = pd.DataFrame(cur.fetchall())\n",
    "Unique_Teams_df.columns = [x[0] for x in cur.description]\n",
    "print(Unique_Teams_df.shape)\n",
    "Unique_Teams_df.head()"
   ]
  },
  {
   "cell_type": "markdown",
   "metadata": {},
   "source": [
    "There are 128 rows and 2 columns included in the __Unique_Teams__ table. The columns in this dataset are described from the source (https://www.kaggle.com/laudanum/footballdelphi) as follows:\n",
    " - TeamName (str): Name of a team\n",
    " - Unique_Team_ID (int): Unique identifier for each team"
   ]
  },
  {
   "cell_type": "markdown",
   "metadata": {},
   "source": [
    "The lab instructions require that the data used in this project is for the 2011 season only. Below are the matches that are included in the 2011 season from the __Matches__ data table."
   ]
  },
  {
   "cell_type": "code",
   "execution_count": 7,
   "metadata": {},
   "outputs": [
    {
     "name": "stdout",
     "output_type": "stream",
     "text": [
      "(992, 9)\n"
     ]
    },
    {
     "data": {
      "text/html": [
       "<div>\n",
       "<style scoped>\n",
       "    .dataframe tbody tr th:only-of-type {\n",
       "        vertical-align: middle;\n",
       "    }\n",
       "\n",
       "    .dataframe tbody tr th {\n",
       "        vertical-align: top;\n",
       "    }\n",
       "\n",
       "    .dataframe thead th {\n",
       "        text-align: right;\n",
       "    }\n",
       "</style>\n",
       "<table border=\"1\" class=\"dataframe\">\n",
       "  <thead>\n",
       "    <tr style=\"text-align: right;\">\n",
       "      <th></th>\n",
       "      <th>Match_ID</th>\n",
       "      <th>Div</th>\n",
       "      <th>Season</th>\n",
       "      <th>Date</th>\n",
       "      <th>HomeTeam</th>\n",
       "      <th>AwayTeam</th>\n",
       "      <th>FTHG</th>\n",
       "      <th>FTAG</th>\n",
       "      <th>FTR</th>\n",
       "    </tr>\n",
       "  </thead>\n",
       "  <tbody>\n",
       "    <tr>\n",
       "      <th>0</th>\n",
       "      <td>1092</td>\n",
       "      <td>D1</td>\n",
       "      <td>2011</td>\n",
       "      <td>2012-03-31</td>\n",
       "      <td>Nurnberg</td>\n",
       "      <td>Bayern Munich</td>\n",
       "      <td>0</td>\n",
       "      <td>1</td>\n",
       "      <td>A</td>\n",
       "    </tr>\n",
       "    <tr>\n",
       "      <th>1</th>\n",
       "      <td>1093</td>\n",
       "      <td>D1</td>\n",
       "      <td>2011</td>\n",
       "      <td>2011-12-11</td>\n",
       "      <td>Stuttgart</td>\n",
       "      <td>Bayern Munich</td>\n",
       "      <td>1</td>\n",
       "      <td>2</td>\n",
       "      <td>A</td>\n",
       "    </tr>\n",
       "    <tr>\n",
       "      <th>2</th>\n",
       "      <td>1094</td>\n",
       "      <td>D1</td>\n",
       "      <td>2011</td>\n",
       "      <td>2011-08-13</td>\n",
       "      <td>Wolfsburg</td>\n",
       "      <td>Bayern Munich</td>\n",
       "      <td>0</td>\n",
       "      <td>1</td>\n",
       "      <td>A</td>\n",
       "    </tr>\n",
       "    <tr>\n",
       "      <th>3</th>\n",
       "      <td>1095</td>\n",
       "      <td>D1</td>\n",
       "      <td>2011</td>\n",
       "      <td>2011-11-27</td>\n",
       "      <td>Mainz</td>\n",
       "      <td>Bayern Munich</td>\n",
       "      <td>3</td>\n",
       "      <td>2</td>\n",
       "      <td>H</td>\n",
       "    </tr>\n",
       "    <tr>\n",
       "      <th>4</th>\n",
       "      <td>1096</td>\n",
       "      <td>D1</td>\n",
       "      <td>2011</td>\n",
       "      <td>2012-02-18</td>\n",
       "      <td>Freiburg</td>\n",
       "      <td>Bayern Munich</td>\n",
       "      <td>0</td>\n",
       "      <td>0</td>\n",
       "      <td>D</td>\n",
       "    </tr>\n",
       "  </tbody>\n",
       "</table>\n",
       "</div>"
      ],
      "text/plain": [
       "   Match_ID Div  Season        Date   HomeTeam       AwayTeam  FTHG  FTAG FTR\n",
       "0      1092  D1    2011  2012-03-31   Nurnberg  Bayern Munich     0     1   A\n",
       "1      1093  D1    2011  2011-12-11  Stuttgart  Bayern Munich     1     2   A\n",
       "2      1094  D1    2011  2011-08-13  Wolfsburg  Bayern Munich     0     1   A\n",
       "3      1095  D1    2011  2011-11-27      Mainz  Bayern Munich     3     2   H\n",
       "4      1096  D1    2011  2012-02-18   Freiburg  Bayern Munich     0     0   D"
      ]
     },
     "execution_count": 7,
     "metadata": {},
     "output_type": "execute_result"
    }
   ],
   "source": [
    "# Preview 2011 Season Matches from Matches dataset\n",
    "\n",
    "cur.execute('''SELECT * \n",
    "               FROM Matches\n",
    "               WHERE Season = 2011;''')\n",
    "Matches_2011_df =pd.DataFrame(cur.fetchall())\n",
    "Matches_2011_df.columns = [x[0] for x in cur.description]\n",
    "print(Matches_2011_df.shape)\n",
    "Matches_2011_df.head()"
   ]
  },
  {
   "cell_type": "markdown",
   "metadata": {},
   "source": [
    "# Calculate Summary Statistics"
   ]
  },
  {
   "cell_type": "markdown",
   "metadata": {},
   "source": [
    "Only using the data from the downloaded SQL tables, the following must be selected/computed:\n",
    " - The name of the team\n",
    " - The total number of goals scored by the team during the 2011 season\n",
    " - The total number of wins the team earned during the 2011 season\n",
    "Only the __Matches__ table is required to get the above information. The below SQL query uses aggregations,  case-statements and a self-join to return the required information in a dataframe, __Stats_df__."
   ]
  },
  {
   "cell_type": "code",
   "execution_count": 8,
   "metadata": {},
   "outputs": [
    {
     "data": {
      "text/html": [
       "<div>\n",
       "<style scoped>\n",
       "    .dataframe tbody tr th:only-of-type {\n",
       "        vertical-align: middle;\n",
       "    }\n",
       "\n",
       "    .dataframe tbody tr th {\n",
       "        vertical-align: top;\n",
       "    }\n",
       "\n",
       "    .dataframe thead th {\n",
       "        text-align: right;\n",
       "    }\n",
       "</style>\n",
       "<table border=\"1\" class=\"dataframe\">\n",
       "  <thead>\n",
       "    <tr style=\"text-align: right;\">\n",
       "      <th></th>\n",
       "      <th>TeamName</th>\n",
       "      <th>TotalGoals</th>\n",
       "      <th>Wins</th>\n",
       "      <th>Draws</th>\n",
       "      <th>Loses</th>\n",
       "    </tr>\n",
       "  </thead>\n",
       "  <tbody>\n",
       "    <tr>\n",
       "      <th>0</th>\n",
       "      <td>Aachen</td>\n",
       "      <td>30</td>\n",
       "      <td>6</td>\n",
       "      <td>13</td>\n",
       "      <td>15</td>\n",
       "    </tr>\n",
       "    <tr>\n",
       "      <th>1</th>\n",
       "      <td>Arsenal</td>\n",
       "      <td>74</td>\n",
       "      <td>21</td>\n",
       "      <td>7</td>\n",
       "      <td>10</td>\n",
       "    </tr>\n",
       "    <tr>\n",
       "      <th>2</th>\n",
       "      <td>Aston Villa</td>\n",
       "      <td>37</td>\n",
       "      <td>7</td>\n",
       "      <td>17</td>\n",
       "      <td>14</td>\n",
       "    </tr>\n",
       "    <tr>\n",
       "      <th>3</th>\n",
       "      <td>Augsburg</td>\n",
       "      <td>36</td>\n",
       "      <td>8</td>\n",
       "      <td>14</td>\n",
       "      <td>12</td>\n",
       "    </tr>\n",
       "    <tr>\n",
       "      <th>4</th>\n",
       "      <td>Bayern Munich</td>\n",
       "      <td>77</td>\n",
       "      <td>23</td>\n",
       "      <td>4</td>\n",
       "      <td>7</td>\n",
       "    </tr>\n",
       "  </tbody>\n",
       "</table>\n",
       "</div>"
      ],
      "text/plain": [
       "        TeamName  TotalGoals  Wins  Draws  Loses\n",
       "0         Aachen          30     6     13     15\n",
       "1        Arsenal          74    21      7     10\n",
       "2    Aston Villa          37     7     17     14\n",
       "3       Augsburg          36     8     14     12\n",
       "4  Bayern Munich          77    23      4      7"
      ]
     },
     "execution_count": 8,
     "metadata": {},
     "output_type": "execute_result"
    }
   ],
   "source": [
    "# Create a dataframe that shows the number of wins, draws and loses for each team during the 2011 season\n",
    "\n",
    "cur.execute('''SELECT HomeTeam AS TeamName, (HomeGoalCount + AwayGoalCount) AS TotalGoals, (WinsH+WinsA) AS Wins, (DrawsH+DrawsA) AS Draws, (LosesH+LosesA) AS Loses\n",
    "FROM (\n",
    "SELECT HomeTeam, \n",
    "SUM(FTHG) AS HomeGoalCount,\n",
    "SUM(CASE FTR\n",
    "    WHEN 'H' THEN 1\n",
    "    WHEN 'D' THEN 0\n",
    "    WHEN 'A' THEN 0\n",
    "END) AS WinsH,\n",
    "SUM(CASE FTR\n",
    "    WHEN 'H' THEN 0\n",
    "    WHEN 'D' THEN 1\n",
    "    WHEN 'A' THEN 0\n",
    "END) AS DrawsH,\n",
    "SUM (CASE FTR\n",
    "    WHEN 'H' THEN 0\n",
    "    WHEN 'D' THEN 0\n",
    "    WHEN 'A' THEN 1\n",
    "END) AS LosesH\n",
    "FROM Matches\n",
    "WHERE Season = '2011'\n",
    "GROUP BY HomeTeam) AS t1\n",
    "JOIN\n",
    "(SELECT AwayTeam,\n",
    "SUM(FTAG) As AwayGoalCount,\n",
    "SUM(CASE FTR\n",
    "    WHEN 'H' THEN 0\n",
    "    WHEN 'D' THEN 0\n",
    "    WHEN 'A' THEN 1\n",
    "END) AS WinsA,\n",
    "SUM(CASE FTR\n",
    "    WHEN 'H' THEN 0\n",
    "    WHEN 'D' THEN 1\n",
    "    WHEN 'A' THEN 0\n",
    "END) AS DrawsA,\n",
    "SUM (CASE FTR\n",
    "    WHEN 'H' THEN 1\n",
    "    WHEN 'D' THEN 0\n",
    "    WHEN 'A' THEN 0\n",
    "END) AS LosesA\n",
    "FROM Matches\n",
    "WHERE Season = '2011'\n",
    "GROUP BY AwayTeam) AS t2\n",
    "ON\n",
    "t1.HomeTeam = t2.AwayTeam;''')\n",
    "Stats_df = pd.DataFrame(cur.fetchall())\n",
    "Stats_df.columns = [x[0] for x in cur.description]\n",
    "Stats_df.head()"
   ]
  },
  {
   "cell_type": "markdown",
   "metadata": {},
   "source": [
    "# DarkSky API WeatherGetter"
   ]
  },
  {
   "cell_type": "markdown",
   "metadata": {},
   "source": [
    "Next, we need to compute each team's win percentage on days where it was raining during games in the 2011 season. The below class will take in a list of dates and get the weather in Berlin on that date. It will also produce each team's percentage of wins that occured in the rain."
   ]
  },
  {
   "cell_type": "code",
   "execution_count": 9,
   "metadata": {},
   "outputs": [],
   "source": [
    "class WeatherGetter:\n",
    "    \n",
    "    def __init__(self):\n",
    "        self.path = \"/Users/erikadauria/Flatiron/Projects/Soccer_in_the_Rain/.secret/darksky_api.json\"\n",
    "        self.url = 'https://api.darksky.net/forecast/'\n",
    "        self.berlin_latitude = '52.520008'\n",
    "        self.berlin_longitude = '13.404954'\n",
    "        self.exclude = '?exclude=minutely,hourly,currently,flags,alerts'\n",
    "    \n",
    "    def get_key(self):\n",
    "        with open(self.path) as f:\n",
    "            key = json.load(f)\n",
    "            self.api_key = key['api_key']\n",
    "            return self.api_key\n",
    "    \n",
    "    def get_weather(self, day):\n",
    "        api_key = self.get_key()\n",
    "        date = day+'T12:00:00'\n",
    "        request_string = '{}{}/{},{},{}{}'.format(self.url, api_key, self.berlin_latitude, self.berlin_longitude, date,self.exclude)\n",
    "        response = requests.get(request_string)\n",
    "        self.weather = response.json()['daily']['data'][0]['icon']\n",
    "        return self.weather\n",
    "    \n",
    "    def get_weather_for_all_days(self, dates):\n",
    "        self.weather_df = pd.DataFrame(dates, columns = ['Date'])\n",
    "        self.weather_df['Weather'] = ''\n",
    "        for i in range(len(self.weather_df.Date)):\n",
    "            self.weather_df['Weather'][i]= self.get_weather(self.weather_df['Date'][i])\n",
    "        return self.weather_df\n",
    "    \n",
    "    def get_rain_win_percentage(self, dataset):\n",
    "        final_df = pd.merge(dataset, self.weather_df, on='Date')\n",
    "        final_df = final_df[final_df['Weather'] == 'rain'].reset_index()\n",
    "        teams = set(final_df['HomeTeam'])\n",
    "        rain_dict = {}\n",
    "        for team in teams:\n",
    "            total = 0\n",
    "            wins = 0\n",
    "            for i in range(len(final_df)):\n",
    "                if (final_df['HomeTeam'][i] == team):\n",
    "                    total += 1\n",
    "                    if final_df['FTR'][i] == 'H':\n",
    "                        wins += 1\n",
    "                elif final_df['AwayTeam'][i] == team:\n",
    "                    total +=1\n",
    "                    if final_df['FTR'][i] == 'A':\n",
    "                        wins += 1\n",
    "            win_percent = round((wins/total)*100,2)\n",
    "            rain_dict.update({team: win_percent})\n",
    "        rain_win_df = pd.DataFrame.from_dict(rain_dict, orient='index').reset_index()\n",
    "        rain_win_df.columns = ['TeamName', 'RainWinPercentage']\n",
    "        return rain_win_df\n"
   ]
  },
  {
   "cell_type": "code",
   "execution_count": 10,
   "metadata": {},
   "outputs": [],
   "source": [
    "# Create instance of WeatherGetter class\n",
    "\n",
    "weather = WeatherGetter()"
   ]
  },
  {
   "cell_type": "code",
   "execution_count": 12,
   "metadata": {},
   "outputs": [
    {
     "data": {
      "text/plain": [
       "'rain'"
      ]
     },
     "execution_count": 12,
     "metadata": {},
     "output_type": "execute_result"
    }
   ],
   "source": [
    "weather.get_weather('2012-03-31')"
   ]
  },
  {
   "cell_type": "code",
   "execution_count": 13,
   "metadata": {},
   "outputs": [
    {
     "ename": "KeyError",
     "evalue": "'icon'",
     "output_type": "error",
     "traceback": [
      "\u001b[0;31m---------------------------------------------------------------------------\u001b[0m",
      "\u001b[0;31mKeyError\u001b[0m                                  Traceback (most recent call last)",
      "\u001b[0;32m<ipython-input-13-85ae854a47d2>\u001b[0m in \u001b[0;36m<module>\u001b[0;34m\u001b[0m\n\u001b[1;32m      1\u001b[0m \u001b[0;31m# Get weather data for each day there was a match during the 2011 season\u001b[0m\u001b[0;34m\u001b[0m\u001b[0;34m\u001b[0m\u001b[0;34m\u001b[0m\u001b[0m\n\u001b[1;32m      2\u001b[0m \u001b[0;34m\u001b[0m\u001b[0m\n\u001b[0;32m----> 3\u001b[0;31m \u001b[0mweather_df\u001b[0m \u001b[0;34m=\u001b[0m \u001b[0mweather\u001b[0m\u001b[0;34m.\u001b[0m\u001b[0mget_weather_for_all_days\u001b[0m\u001b[0;34m(\u001b[0m\u001b[0mMatches_2011_df\u001b[0m\u001b[0;34m.\u001b[0m\u001b[0mDate\u001b[0m\u001b[0;34m.\u001b[0m\u001b[0munique\u001b[0m\u001b[0;34m(\u001b[0m\u001b[0;34m)\u001b[0m\u001b[0;34m)\u001b[0m\u001b[0;34m\u001b[0m\u001b[0;34m\u001b[0m\u001b[0m\n\u001b[0m\u001b[1;32m      4\u001b[0m \u001b[0mweather_df\u001b[0m\u001b[0;34m.\u001b[0m\u001b[0mhead\u001b[0m\u001b[0;34m(\u001b[0m\u001b[0;34m)\u001b[0m\u001b[0;34m\u001b[0m\u001b[0;34m\u001b[0m\u001b[0m\n",
      "\u001b[0;32m<ipython-input-9-fed73ebe782e>\u001b[0m in \u001b[0;36mget_weather_for_all_days\u001b[0;34m(self, dates)\u001b[0m\n\u001b[1;32m     26\u001b[0m         \u001b[0mself\u001b[0m\u001b[0;34m.\u001b[0m\u001b[0mweather_df\u001b[0m\u001b[0;34m[\u001b[0m\u001b[0;34m'Weather'\u001b[0m\u001b[0;34m]\u001b[0m \u001b[0;34m=\u001b[0m \u001b[0;34m''\u001b[0m\u001b[0;34m\u001b[0m\u001b[0;34m\u001b[0m\u001b[0m\n\u001b[1;32m     27\u001b[0m         \u001b[0;32mfor\u001b[0m \u001b[0mi\u001b[0m \u001b[0;32min\u001b[0m \u001b[0mrange\u001b[0m\u001b[0;34m(\u001b[0m\u001b[0mlen\u001b[0m\u001b[0;34m(\u001b[0m\u001b[0mself\u001b[0m\u001b[0;34m.\u001b[0m\u001b[0mweather_df\u001b[0m\u001b[0;34m.\u001b[0m\u001b[0mDate\u001b[0m\u001b[0;34m)\u001b[0m\u001b[0;34m)\u001b[0m\u001b[0;34m:\u001b[0m\u001b[0;34m\u001b[0m\u001b[0;34m\u001b[0m\u001b[0m\n\u001b[0;32m---> 28\u001b[0;31m             \u001b[0mself\u001b[0m\u001b[0;34m.\u001b[0m\u001b[0mweather_df\u001b[0m\u001b[0;34m[\u001b[0m\u001b[0;34m'Weather'\u001b[0m\u001b[0;34m]\u001b[0m\u001b[0;34m[\u001b[0m\u001b[0mi\u001b[0m\u001b[0;34m]\u001b[0m\u001b[0;34m=\u001b[0m \u001b[0mself\u001b[0m\u001b[0;34m.\u001b[0m\u001b[0mget_weather\u001b[0m\u001b[0;34m(\u001b[0m\u001b[0mself\u001b[0m\u001b[0;34m.\u001b[0m\u001b[0mweather_df\u001b[0m\u001b[0;34m[\u001b[0m\u001b[0;34m'Date'\u001b[0m\u001b[0;34m]\u001b[0m\u001b[0;34m[\u001b[0m\u001b[0mi\u001b[0m\u001b[0;34m]\u001b[0m\u001b[0;34m)\u001b[0m\u001b[0;34m\u001b[0m\u001b[0;34m\u001b[0m\u001b[0m\n\u001b[0m\u001b[1;32m     29\u001b[0m         \u001b[0;32mreturn\u001b[0m \u001b[0mself\u001b[0m\u001b[0;34m.\u001b[0m\u001b[0mweather_df\u001b[0m\u001b[0;34m\u001b[0m\u001b[0;34m\u001b[0m\u001b[0m\n\u001b[1;32m     30\u001b[0m \u001b[0;34m\u001b[0m\u001b[0m\n",
      "\u001b[0;32m<ipython-input-9-fed73ebe782e>\u001b[0m in \u001b[0;36mget_weather\u001b[0;34m(self, day)\u001b[0m\n\u001b[1;32m     19\u001b[0m         \u001b[0mrequest_string\u001b[0m \u001b[0;34m=\u001b[0m \u001b[0;34m'{}{}/{},{},{}{}'\u001b[0m\u001b[0;34m.\u001b[0m\u001b[0mformat\u001b[0m\u001b[0;34m(\u001b[0m\u001b[0mself\u001b[0m\u001b[0;34m.\u001b[0m\u001b[0murl\u001b[0m\u001b[0;34m,\u001b[0m \u001b[0mapi_key\u001b[0m\u001b[0;34m,\u001b[0m \u001b[0mself\u001b[0m\u001b[0;34m.\u001b[0m\u001b[0mberlin_latitude\u001b[0m\u001b[0;34m,\u001b[0m \u001b[0mself\u001b[0m\u001b[0;34m.\u001b[0m\u001b[0mberlin_longitude\u001b[0m\u001b[0;34m,\u001b[0m \u001b[0mdate\u001b[0m\u001b[0;34m,\u001b[0m\u001b[0mself\u001b[0m\u001b[0;34m.\u001b[0m\u001b[0mexclude\u001b[0m\u001b[0;34m)\u001b[0m\u001b[0;34m\u001b[0m\u001b[0;34m\u001b[0m\u001b[0m\n\u001b[1;32m     20\u001b[0m         \u001b[0mresponse\u001b[0m \u001b[0;34m=\u001b[0m \u001b[0mrequests\u001b[0m\u001b[0;34m.\u001b[0m\u001b[0mget\u001b[0m\u001b[0;34m(\u001b[0m\u001b[0mrequest_string\u001b[0m\u001b[0;34m)\u001b[0m\u001b[0;34m\u001b[0m\u001b[0;34m\u001b[0m\u001b[0m\n\u001b[0;32m---> 21\u001b[0;31m         \u001b[0mself\u001b[0m\u001b[0;34m.\u001b[0m\u001b[0mweather\u001b[0m \u001b[0;34m=\u001b[0m \u001b[0mresponse\u001b[0m\u001b[0;34m.\u001b[0m\u001b[0mjson\u001b[0m\u001b[0;34m(\u001b[0m\u001b[0;34m)\u001b[0m\u001b[0;34m[\u001b[0m\u001b[0;34m'daily'\u001b[0m\u001b[0;34m]\u001b[0m\u001b[0;34m[\u001b[0m\u001b[0;34m'data'\u001b[0m\u001b[0;34m]\u001b[0m\u001b[0;34m[\u001b[0m\u001b[0;36m0\u001b[0m\u001b[0;34m]\u001b[0m\u001b[0;34m[\u001b[0m\u001b[0;34m'icon'\u001b[0m\u001b[0;34m]\u001b[0m\u001b[0;34m\u001b[0m\u001b[0;34m\u001b[0m\u001b[0m\n\u001b[0m\u001b[1;32m     22\u001b[0m         \u001b[0;32mreturn\u001b[0m \u001b[0mself\u001b[0m\u001b[0;34m.\u001b[0m\u001b[0mweather\u001b[0m\u001b[0;34m\u001b[0m\u001b[0;34m\u001b[0m\u001b[0m\n\u001b[1;32m     23\u001b[0m \u001b[0;34m\u001b[0m\u001b[0m\n",
      "\u001b[0;31mKeyError\u001b[0m: 'icon'"
     ]
    }
   ],
   "source": [
    "# Get weather data for each day there was a match during the 2011 season\n",
    "\n",
    "weather_df = weather.get_weather_for_all_days(Matches_2011_df.Date.unique())\n",
    "weather_df.head()"
   ]
  },
  {
   "cell_type": "code",
   "execution_count": null,
   "metadata": {
    "scrolled": false
   },
   "outputs": [],
   "source": [
    "\n",
    "rain_win_df = weather.get_rain_win_percentage(Matches_2011_df)\n",
    "rain_win_df.head()"
   ]
  },
  {
   "cell_type": "markdown",
   "metadata": {},
   "source": [
    "# Getting the Wins and Loses for Each Team with SQL"
   ]
  },
  {
   "cell_type": "code",
   "execution_count": null,
   "metadata": {
    "scrolled": true
   },
   "outputs": [],
   "source": [
    "# Create a dataframe that shows the number of wins, draws and loses for each team during the 2011 season\n",
    "\n",
    "cur.execute('''SELECT HomeTeam AS TeamName, (HomeGoalCount + AwayGoalCount) AS TotalGoals, (WinsH+WinsA) AS Wins, (DrawsH+DrawsA) AS Draws, (LosesH+LosesA) AS Loses\n",
    "FROM (\n",
    "SELECT HomeTeam, \n",
    "SUM(FTHG) AS HomeGoalCount,\n",
    "SUM(CASE FTR\n",
    "    WHEN 'H' THEN 1\n",
    "    WHEN 'D' THEN 0\n",
    "    WHEN 'A' THEN 0\n",
    "END) AS WinsH,\n",
    "SUM(CASE FTR\n",
    "    WHEN 'H' THEN 0\n",
    "    WHEN 'D' THEN 1\n",
    "    WHEN 'A' THEN 0\n",
    "END) AS DrawsH,\n",
    "SUM (CASE FTR\n",
    "    WHEN 'H' THEN 0\n",
    "    WHEN 'D' THEN 0\n",
    "    WHEN 'A' THEN 1\n",
    "END) AS LosesH\n",
    "FROM Matches\n",
    "WHERE Season = '2011'\n",
    "GROUP BY HomeTeam) AS t1\n",
    "JOIN\n",
    "(SELECT AwayTeam,\n",
    "SUM(FTAG) As AwayGoalCount,\n",
    "SUM(CASE FTR\n",
    "    WHEN 'H' THEN 0\n",
    "    WHEN 'D' THEN 0\n",
    "    WHEN 'A' THEN 1\n",
    "END) AS WinsA,\n",
    "SUM(CASE FTR\n",
    "    WHEN 'H' THEN 0\n",
    "    WHEN 'D' THEN 1\n",
    "    WHEN 'A' THEN 0\n",
    "END) AS DrawsA,\n",
    "SUM (CASE FTR\n",
    "    WHEN 'H' THEN 1\n",
    "    WHEN 'D' THEN 0\n",
    "    WHEN 'A' THEN 0\n",
    "END) AS LosesA\n",
    "FROM Matches\n",
    "WHERE Season = '2011'\n",
    "GROUP BY AwayTeam) AS t2\n",
    "ON\n",
    "t1.HomeTeam = t2.AwayTeam;''')\n",
    "Stats_df = pd.DataFrame(cur.fetchall())\n",
    "Stats_df.columns = [x[0] for x in cur.description]\n",
    "Stats_df.head()"
   ]
  },
  {
   "cell_type": "code",
   "execution_count": null,
   "metadata": {},
   "outputs": [],
   "source": [
    "# Merge rain_win_df and Stats_df\n",
    "\n",
    "final_df = pd.merge(Stats_df, rain_win_df, on='TeamName')\n",
    "final_df.head()"
   ]
  },
  {
   "cell_type": "code",
   "execution_count": null,
   "metadata": {},
   "outputs": [],
   "source": [
    "import gridfs"
   ]
  },
  {
   "cell_type": "code",
   "execution_count": null,
   "metadata": {},
   "outputs": [],
   "source": [
    "# Function to create histogram\n",
    "\n",
    "def create_histogram(ind):\n",
    "    data = final_df.iloc[ind].to_dict()\n",
    "    x_values = list(data.keys())[2:5]\n",
    "    y_values = list(data.values())[2:5]\n",
    "    fig = plt.figure(figsize=(5,5))\n",
    "    plt.title(list(data.values())[0] + ' 2011 Season Stats')\n",
    "    plt.bar(x_values, y_values)\n",
    "    plt.savefig('Histograms/' + list(data.values())[0] + '.png', bbox_inches='tight')\n",
    "    plt.close(fig)\n",
    "    "
   ]
  },
  {
   "cell_type": "code",
   "execution_count": null,
   "metadata": {},
   "outputs": [],
   "source": [
    "client=MongoClient()\n",
    "db=client.mytest\n",
    "data=open(“image.png”,”rb”)\n",
    "fs=gridfs.GridFS(db)\n",
    "thedata=data.read()\n",
    "stored=fs.put(thedata,filename=”inmongoimage”)\n",
    "\n",
    "To get it back in the same code you call:\n",
    "out=fs.get(stored).read()"
   ]
  },
  {
   "cell_type": "code",
   "execution_count": null,
   "metadata": {},
   "outputs": [],
   "source": [
    "create_histogram(0)"
   ]
  },
  {
   "cell_type": "markdown",
   "metadata": {},
   "source": [
    "# MongoDB"
   ]
  },
  {
   "cell_type": "code",
   "execution_count": null,
   "metadata": {},
   "outputs": [],
   "source": [
    "from PIL import Image\n",
    "from bson import Binary\n",
    "import io\n",
    "\n",
    "#img = Image.open('test.jpg')\n",
    "\n",
    "#imgByteArr = io.BytesIO()\n",
    "#img.save(imgByteArr, format='PNG')\n",
    "#imgByteArr = imgByteArr.getvalue()"
   ]
  },
  {
   "cell_type": "code",
   "execution_count": null,
   "metadata": {},
   "outputs": [],
   "source": [
    "class MongoHandler:\n",
    "    def __init__(self):\n",
    "        self.myclient = pymongo.MongoClient()\n",
    "        self.database = self.myclient['soccer_stats_database']\n",
    "        self.collection = self.database['soccer_stats_collection']\n",
    "        \n",
    "    def reformat_png(self, png_file):\n",
    "        data=open(png_file, \"rb\")        \n",
    "        fs=gridfs.GridFS(self.database)\n",
    "        thedata=data.read()\n",
    "        stored=fs.put(thedata, filename=\"mongoimage\")\n",
    "        return fs.get(stored).read()\n",
    "    \n",
    "    def format_data(self, ind):\n",
    "        self.stats_dict = {\n",
    "            \"team\" : final_df.TeamName[i],\n",
    "            \"histogram\" : self.reformat_png('Histograms/' + final_df.TeamName[i] + '.png')  \n",
    "        }\n",
    "        return self.stats_dict\n",
    "    \n",
    "    def insert_record(self, ind):\n",
    "        #data = soccer_Team_Data_in_dict_Form #{'name': 'John Doe', 'address': '123 elm street', 'age': 28}\n",
    "        stats_dict = self.format_data(ind)\n",
    "        return self.collection.insert_one(stats_dict)\n",
    "    \n",
    "    def view_mongo_collection(self):\n",
    "        query = self.collection.find({})\n",
    "        for x in query:\n",
    "            print(x)\n",
    "    \n",
    "    def delete_collection(self):\n",
    "        self.collection.delete_many({})"
   ]
  },
  {
   "cell_type": "code",
   "execution_count": null,
   "metadata": {},
   "outputs": [],
   "source": [
    "mongo = MongoHandler()"
   ]
  },
  {
   "cell_type": "code",
   "execution_count": null,
   "metadata": {},
   "outputs": [],
   "source": [
    "for i in range(3):\n",
    "    create_histogram(i)\n",
    "    \n",
    "    mongo.insert_record(i)"
   ]
  },
  {
   "cell_type": "code",
   "execution_count": null,
   "metadata": {},
   "outputs": [],
   "source": [
    "#for i in range(len(final_df)):\n",
    "for i in range(3):\n",
    "    create_histogram(i)\n",
    "    stats_dict = {\n",
    "        \"team\" : final_df.TeamName[i],\n",
    "        \"total_goals\" : float(final_df.TotalGoals[i]),\n",
    "        \"total_wins\" : float(final_df.Wins[i]),\n",
    "        \"histogram\" : Image.open('Histograms/' + final_df.TeamName[i] + '.png').show(),\n",
    "        \"rain_win_percentage\" : final_df.RainWinPercentage[i]\n",
    "    }\n",
    "    mongo.insert_record(stats_dict)"
   ]
  },
  {
   "cell_type": "code",
   "execution_count": null,
   "metadata": {},
   "outputs": [],
   "source": [
    "mongo.view_mongo_collection()"
   ]
  },
  {
   "cell_type": "code",
   "execution_count": null,
   "metadata": {},
   "outputs": [],
   "source": [
    "mongo.delete_collection()"
   ]
  },
  {
   "cell_type": "code",
   "execution_count": null,
   "metadata": {},
   "outputs": [],
   "source": [
    "mongo.view_mongo_collection()"
   ]
  },
  {
   "cell_type": "code",
   "execution_count": null,
   "metadata": {},
   "outputs": [],
   "source": []
  },
  {
   "cell_type": "code",
   "execution_count": null,
   "metadata": {},
   "outputs": [],
   "source": []
  },
  {
   "cell_type": "code",
   "execution_count": null,
   "metadata": {},
   "outputs": [],
   "source": []
  },
  {
   "cell_type": "code",
   "execution_count": null,
   "metadata": {},
   "outputs": [],
   "source": []
  }
 ],
 "metadata": {
  "kernelspec": {
   "display_name": "Python 3",
   "language": "python",
   "name": "python3"
  },
  "language_info": {
   "codemirror_mode": {
    "name": "ipython",
    "version": 3
   },
   "file_extension": ".py",
   "mimetype": "text/x-python",
   "name": "python",
   "nbconvert_exporter": "python",
   "pygments_lexer": "ipython3",
   "version": "3.7.3"
  }
 },
 "nbformat": 4,
 "nbformat_minor": 2
}
